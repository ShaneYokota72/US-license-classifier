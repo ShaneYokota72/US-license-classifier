{
 "cells": [
  {
   "cell_type": "code",
   "execution_count": null,
   "metadata": {},
   "outputs": [],
   "source": [
    "import torch\n",
    "from torch.utils.data import Dataset, DataLoader\n",
    "from PIL import Image\n",
    "from torchvision import transforms, models\n",
    "from torchvision.models import resnet50"
   ]
  },
  {
   "cell_type": "code",
   "execution_count": null,
   "metadata": {},
   "outputs": [],
   "source": [
    "# Install dependencies as needed:\n",
    "# pip install kagglehub[pandas-datasets]\n",
    "import kagglehub\n",
    "from kagglehub import KaggleDatasetAdapter\n",
    "!pip install kagglehub[pandas-datasets]\n",
    "!pip install --upgrade --force-reinstall --no-deps kaggle"
   ]
  },
  {
   "cell_type": "code",
   "execution_count": null,
   "metadata": {},
   "outputs": [],
   "source": [
    "# Load the dataset's plates.csv\n",
    "file_path = \"new plates/plates.csv\"\n",
    "\n",
    "df = kagglehub.load_dataset(\n",
    "  KaggleDatasetAdapter.PANDAS,\n",
    "  \"gpiosenka/us-license-plates-image-classification\",\n",
    "  file_path,\n",
    ")\n",
    "\n",
    "print(\"First 5 records:\", df.head())"
   ]
  },
  {
   "cell_type": "code",
   "execution_count": null,
   "metadata": {},
   "outputs": [
    {
     "ename": "",
     "evalue": "",
     "output_type": "error",
     "traceback": [
      "\u001b[1;31mRunning cells with '.venv (Python 3.12.1)' requires the ipykernel package.\n",
      "\u001b[1;31mRun the following command to install 'ipykernel' into the Python environment. \n",
      "\u001b[1;31mCommand: '/Users/shaneyokota/Desktop/CS467/hw1/.venv/bin/python -m pip install ipykernel -U --force-reinstall'"
     ]
    }
   ],
   "source": [
    "%cd drive/MyDrive/CS467\\ Final\\ Project/new\\ plates/\n",
    "!ls"
   ]
  },
  {
   "cell_type": "code",
   "execution_count": null,
   "metadata": {},
   "outputs": [],
   "source": [
    "# image input size: 128 X 224 X 3\n",
    "IMAGE_HEIGHT = 128\n",
    "IMAGE_WIDTH = 224\n",
    "RGB_NUM = 3\n",
    "\n",
    "class CustomDataset(Dataset):\n",
    "    # 0001.jpg, 0\n",
    "    # 0001.jpg, [1,0,0,0,0,0,0, ...]\n",
    "    def __init__(self, image_paths, labels):\n",
    "        self.image_paths = image_paths\n",
    "        self.labels = labels\n",
    "\n",
    "    def __len__(self):\n",
    "        return len(self.image_paths)\n",
    "\n",
    "    def __getitem__(self, idx):\n",
    "        image_path = self.image_paths[idx]\n",
    "\n",
    "        # 1 hot encoding setup\n",
    "        label_idx = self.labels[idx]\n",
    "        label = torch.zeros(56)\n",
    "        label[label_idx] = 1\n",
    "\n",
    "        # Load the image\n",
    "        image = Image.open(image_path)\n",
    "\n",
    "\n",
    "        # Convert the image to a tensor\n",
    "        to_tensor = transforms.ToTensor()\n",
    "        tensor_image = to_tensor(image)\n",
    "\n",
    "        return tensor_image, label\n",
    "\n",
    "df_train = df[df[\"data set\"] == \"train\"][[\"filepaths\", \"class id\"]]\n",
    "train_data = CustomDataset(df_train[\"filepaths\"], df_train[\"class id\"])\n",
    "\n",
    "# print a sample image\n",
    "print(train_data[5000][1])\n",
    "print(train_data.__getitem__(0))\n",
    "\n",
    "dl = DataLoader(train_data, batch_size=32, shuffle=True)\n"
   ]
  },
  {
   "cell_type": "code",
   "execution_count": null,
   "metadata": {},
   "outputs": [],
   "source": [
    "# initialize resnet50 model\n",
    "model = resnet50()"
   ]
  }
 ],
 "metadata": {
  "kernelspec": {
   "display_name": ".venv",
   "language": "python",
   "name": "python3"
  },
  "language_info": {
   "name": "python",
   "version": "3.12.1"
  }
 },
 "nbformat": 4,
 "nbformat_minor": 2
}
